{
 "cells": [
  {
   "cell_type": "markdown",
   "metadata": {},
   "source": [
    "## Step 1: Load Data from Files"
   ]
  },
  {
   "cell_type": "markdown",
   "metadata": {},
   "source": [
    "### 1.1. Load INX and SIMX Files"
   ]
  },
  {
   "cell_type": "code",
   "execution_count": 7,
   "metadata": {},
   "outputs": [],
   "source": [
    "def load_inx_file(filepath):\n",
    "    with open(filepath, 'r') as file:\n",
    "        data = file.readlines()\n",
    "    return data\n",
    "\n",
    "def load_simx_file(filepath):\n",
    "    with open(filepath, 'r') as file:\n",
    "        data = file.readlines()\n",
    "    return data"
   ]
  },
  {
   "cell_type": "code",
   "execution_count": 8,
   "metadata": {},
   "outputs": [
    {
     "name": "stdout",
     "output_type": "stream",
     "text": [
      "INX File Data: ['<ENVI-MET_Datafile>\\n', '<Header>\\n', '<filetype>INPX ENVI-met Area Input File</filetype>\\n', '<version>440</version>\\n', '<revisiondate>13.09.2024 19:32:05</revisiondate>\\n']\n",
      "SIMX File Data: ['<ENVI-MET_Datafile>\\n', '<Header>\\n', '<filetype>SIMX</filetype>\\n', '<version>2</version>\\n', '<revisiondate>13.09.2024 17:58:04</revisiondate>\\n']\n"
     ]
    }
   ],
   "source": [
    "import os\n",
    "\n",
    "# One directory up to the project root\n",
    "base_dir = os.path.dirname(os.getcwd())  # Go up one directory level\n",
    "\n",
    "# Status quo directory path\n",
    "statusquo_dir = os.path.join(base_dir, 'data', 'statusquo')\n",
    "\n",
    "# Relative paths\n",
    "inx_file = os.path.join(statusquo_dir, 'Playground_statusquo.INX')\n",
    "simx_file = os.path.join(statusquo_dir, 'Playground_statusquo.simx')\n",
    "\n",
    "# Load the files\n",
    "inx_data = load_inx_file(inx_file)\n",
    "simx_data = load_simx_file(simx_file)\n",
    "\n",
    "# Displaying a snippet of the data (for debugging)\n",
    "print(\"INX File Data:\", inx_data[:5])  # Show first 5 lines\n",
    "print(\"SIMX File Data:\", simx_data[:5])\n"
   ]
  },
  {
   "cell_type": "markdown",
   "metadata": {},
   "source": [
    "### 1.2 Load Climate Input (FOX) Data"
   ]
  },
  {
   "cell_type": "code",
   "execution_count": 10,
   "metadata": {},
   "outputs": [
    {
     "name": "stdout",
     "output_type": "stream",
     "text": [
      "FOX File Data: ['{\\n', '    \"fileType\": \"ENVI-met JSON Forcing File\",\\n', '    \"metaData\": {\\n', '        \"fileDescription\": \"FULL FORCING FOR ENVI-met\",\\n', '        \"remark\": \"\",\\n']\n"
     ]
    }
   ],
   "source": [
    "# Relative paths the FOX file\n",
    "fox_file = os.path.join(statusquo_dir, 'Playground.FOX')\n",
    "\n",
    "# Function to load the FOX file\n",
    "def load_fox_file(filepath):\n",
    "    with open(filepath, 'r') as file:\n",
    "        data = file.readlines()\n",
    "    # Process the file to extract climate input data\n",
    "    return data\n",
    "\n",
    "# Load FOX data\n",
    "fox_data = load_fox_file(fox_file)\n",
    "\n",
    "# Display a snippet of the climate input data\n",
    "print(\"FOX File Data:\", fox_data[:5])"
   ]
  },
  {
   "cell_type": "markdown",
   "metadata": {},
   "source": [
    "## Step 2: Extract and Visualize Data"
   ]
  }
 ],
 "metadata": {
  "kernelspec": {
   "display_name": "Python 3",
   "language": "python",
   "name": "python3"
  },
  "language_info": {
   "codemirror_mode": {
    "name": "ipython",
    "version": 3
   },
   "file_extension": ".py",
   "mimetype": "text/x-python",
   "name": "python",
   "nbconvert_exporter": "python",
   "pygments_lexer": "ipython3",
   "version": "3.12.0"
  }
 },
 "nbformat": 4,
 "nbformat_minor": 2
}
