{
 "cells": [
  {
   "cell_type": "markdown",
   "metadata": {},
   "source": [
    "## Step 1: Load Data from Files"
   ]
  },
  {
   "cell_type": "markdown",
   "metadata": {},
   "source": [
    "### 1.1. Load INX and SIMX Files"
   ]
  },
  {
   "cell_type": "code",
   "execution_count": 9,
   "metadata": {},
   "outputs": [],
   "source": [
    "def load_inx_file(filepath):\n",
    "    with open(filepath, 'r') as file:\n",
    "        data = file.readlines()\n",
    "    return data\n",
    "\n",
    "def load_simx_file(filepath):\n",
    "    with open(filepath, 'r') as file:\n",
    "        data = file.readlines()\n",
    "    return data"
   ]
  },
  {
   "cell_type": "code",
   "execution_count": 10,
   "metadata": {},
   "outputs": [
    {
     "name": "stdout",
     "output_type": "stream",
     "text": [
      "INX File Data: ['<ENVI-MET_Datafile>\\n', '<Header>\\n', '<filetype>INPX ENVI-met Area Input File</filetype>\\n', '<version>440</version>\\n', '<revisiondate>13.09.2024 19:32:05</revisiondate>\\n']\n",
      "SIMX File Data: ['<ENVI-MET_Datafile>\\n', '<Header>\\n', '<filetype>SIMX</filetype>\\n', '<version>2</version>\\n', '<revisiondate>13.09.2024 17:58:04</revisiondate>\\n']\n"
     ]
    }
   ],
   "source": [
    "import os\n",
    "\n",
    "# One directory up to the project root\n",
    "base_dir = os.path.dirname(os.getcwd())\n",
    "\n",
    "# Status quo directory path\n",
    "statusquo_dir = os.path.join(base_dir, 'data', 'statusquo')\n",
    "\n",
    "# Relative paths\n",
    "inx_file = os.path.join(statusquo_dir, 'Playground_statusquo.INX')\n",
    "simx_file = os.path.join(statusquo_dir, 'Playground_statusquo.simx')\n",
    "\n",
    "# Load the files\n",
    "inx_data = load_inx_file(inx_file)\n",
    "simx_data = load_simx_file(simx_file)\n",
    "\n",
    "# Displaying a snippet of the data (for debugging)\n",
    "print(\"INX File Data:\", inx_data[:5])  # first 5 lines\n",
    "print(\"SIMX File Data:\", simx_data[:5])\n"
   ]
  },
  {
   "cell_type": "markdown",
   "metadata": {},
   "source": [
    "### 1.2 Load Climate Input (FOX) Data"
   ]
  },
  {
   "cell_type": "code",
   "execution_count": 11,
   "metadata": {},
   "outputs": [
    {
     "name": "stdout",
     "output_type": "stream",
     "text": [
      "FOX File Data: ['{\\n', '    \"fileType\": \"ENVI-met JSON Forcing File\",\\n', '    \"metaData\": {\\n', '        \"fileDescription\": \"FULL FORCING FOR ENVI-met\",\\n', '        \"remark\": \"\",\\n']\n"
     ]
    }
   ],
   "source": [
    "# Relative paths the FOX file\n",
    "fox_file = os.path.join(statusquo_dir, 'Playground.FOX')\n",
    "\n",
    "# Function to load the FOX file\n",
    "def load_fox_file(filepath):\n",
    "    with open(filepath, 'r') as file:\n",
    "        data = file.readlines()\n",
    "    return data\n",
    "\n",
    "# Load FOX data\n",
    "fox_data = load_fox_file(fox_file)\n",
    "\n",
    "# Display a snippet of the climate input data\n",
    "print(\"FOX File Data:\", fox_data[:5])"
   ]
  },
  {
   "cell_type": "markdown",
   "metadata": {},
   "source": [
    "## Step 2: Extract and Visualize Data"
   ]
  },
  {
   "cell_type": "markdown",
   "metadata": {},
   "source": [
    "### Work with the .nc File"
   ]
  },
  {
   "cell_type": "markdown",
   "metadata": {},
   "source": [
    "##### 1. Loading the netCDF File:"
   ]
  },
  {
   "cell_type": "code",
   "execution_count": 12,
   "metadata": {},
   "outputs": [
    {
     "ename": "ModuleNotFoundError",
     "evalue": "No module named 'xarray'",
     "output_type": "error",
     "traceback": [
      "\u001b[1;31m---------------------------------------------------------------------------\u001b[0m",
      "\u001b[1;31mModuleNotFoundError\u001b[0m                       Traceback (most recent call last)",
      "Cell \u001b[1;32mIn[12], line 1\u001b[0m\n\u001b[1;32m----> 1\u001b[0m \u001b[38;5;28;01mimport\u001b[39;00m \u001b[38;5;21;01mxarray\u001b[39;00m \u001b[38;5;28;01mas\u001b[39;00m \u001b[38;5;21;01mxr\u001b[39;00m\n\u001b[0;32m      2\u001b[0m \u001b[38;5;66;03m#import os\u001b[39;00m\n\u001b[0;32m      3\u001b[0m \n\u001b[0;32m      4\u001b[0m \u001b[38;5;66;03m# Use the current working directory but go one directory up to the project root\u001b[39;00m\n\u001b[0;32m      5\u001b[0m base_dir \u001b[38;5;241m=\u001b[39m os\u001b[38;5;241m.\u001b[39mpath\u001b[38;5;241m.\u001b[39mdirname(os\u001b[38;5;241m.\u001b[39mgetcwd())  \u001b[38;5;66;03m# Go up one directory level\u001b[39;00m\n",
      "\u001b[1;31mModuleNotFoundError\u001b[0m: No module named 'xarray'"
     ]
    }
   ],
   "source": [
    "import xarray as xr\n",
    "#import os\n",
    "\n",
    "# Use the current working directory but go one directory up to the project root\n",
    "base_dir = os.path.dirname(os.getcwd())  # Go up one directory level\n",
    "\n",
    "# Define the status quo directory path\n",
    "statusquo_dir = os.path.join(base_dir, 'data', 'statusquo')\n",
    "\n",
    "# Use relative paths for your .nc file\n",
    "nc_file = os.path.join(statusquo_dir, 'Playground_2024-07-06_04.00.00.nc')\n",
    "\n",
    "# Load the netCDF file using xarray\n",
    "ds = xr.open_dataset(nc_file)\n",
    "\n",
    "# Explore the contents of the netCDF file\n",
    "print(ds)\n"
   ]
  }
 ],
 "metadata": {
  "kernelspec": {
   "display_name": "Python 3",
   "language": "python",
   "name": "python3"
  },
  "language_info": {
   "codemirror_mode": {
    "name": "ipython",
    "version": 3
   },
   "file_extension": ".py",
   "mimetype": "text/x-python",
   "name": "python",
   "nbconvert_exporter": "python",
   "pygments_lexer": "ipython3",
   "version": "3.12.0"
  }
 },
 "nbformat": 4,
 "nbformat_minor": 2
}
